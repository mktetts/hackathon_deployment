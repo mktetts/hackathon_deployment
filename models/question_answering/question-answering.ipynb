{
 "cells": [
  {
   "cell_type": "code",
   "execution_count": 1,
   "metadata": {},
   "outputs": [
    {
     "name": "stdout",
     "output_type": "stream",
     "text": [
      "Note: you may need to restart the kernel to use updated packages.\n"
     ]
    }
   ],
   "source": [
    "%pip install -q \"openvino>=2023.1.0\""
   ]
  },
  {
   "cell_type": "code",
   "execution_count": 2,
   "metadata": {},
   "outputs": [],
   "source": [
    "# Fetch `notebook_utils` module\n",
    "import urllib.request\n",
    "urllib.request.urlretrieve(\n",
    "    url='https://raw.githubusercontent.com/openvinotoolkit/openvino_notebooks/main/notebooks/utils/notebook_utils.py',\n",
    "    filename='notebook_utils.py'\n",
    ")\n",
    "\n",
    "from notebook_utils import download_file"
   ]
  },
  {
   "cell_type": "code",
   "execution_count": 3,
   "metadata": {},
   "outputs": [
    {
     "data": {
      "application/vnd.jupyter.widget-view+json": {
       "model_id": "fecea788df534d3382d5b1b8b54919ec",
       "version_major": 2,
       "version_minor": 0
      },
      "text/plain": [
       "html_reader.py:   0%|          | 0.00/635 [00:00<?, ?B/s]"
      ]
     },
     "metadata": {},
     "output_type": "display_data"
    },
    {
     "data": {
      "application/vnd.jupyter.widget-view+json": {
       "model_id": "d700fdcb6f06479a9c221dbe5a94d323",
       "version_major": 2,
       "version_minor": 0
      },
      "text/plain": [
       "tokens_bert.py:   0%|          | 0.00/929 [00:00<?, ?B/s]"
      ]
     },
     "metadata": {},
     "output_type": "display_data"
    }
   ],
   "source": [
    "import operator\n",
    "import time\n",
    "from urllib import parse\n",
    "from pathlib import Path\n",
    "\n",
    "import numpy as np\n",
    "import openvino as ov\n",
    "\n",
    "\n",
    "download_file(\n",
    "    url='https://raw.githubusercontent.com/openvinotoolkit/openvino_notebooks/main/notebooks/213-question-answering/html_reader.py',\n",
    "    filename='html_reader.py'\n",
    ")\n",
    "import html_reader as reader\n",
    "\n",
    "download_file(\n",
    "    url='https://raw.githubusercontent.com/openvinotoolkit/openvino_notebooks/main/notebooks/213-question-answering/tokens_bert.py',\n",
    "    filename='tokens_bert.py'\n",
    ")\n",
    "import tokens_bert as tokens"
   ]
  },
  {
   "cell_type": "code",
   "execution_count": 4,
   "metadata": {},
   "outputs": [
    {
     "data": {
      "application/vnd.jupyter.widget-view+json": {
       "model_id": "3f8f0b674dd446fd90991c0aea7c3a2f",
       "version_major": 2,
       "version_minor": 0
      },
      "text/plain": [
       "../../python/python_backend/trained_models/question_answering/bert-small-uncased-whole-word-masking-squad-int8…"
      ]
     },
     "metadata": {},
     "output_type": "display_data"
    },
    {
     "data": {
      "application/vnd.jupyter.widget-view+json": {
       "model_id": "1b2eff6ef25a41c0b4c7018be1dba383",
       "version_major": 2,
       "version_minor": 0
      },
      "text/plain": [
       "../../python/python_backend/trained_models/question_answering/bert-small-uncased-whole-word-masking-squad-int8…"
      ]
     },
     "metadata": {},
     "output_type": "display_data"
    }
   ],
   "source": [
    "MODEL_DIR = Path(\"../../python/python_backend/trained_models/question_answering/\")\n",
    "MODEL_DIR.mkdir(exist_ok=True)\n",
    "\n",
    "model_xml_url = \"https://storage.openvinotoolkit.org/repositories/open_model_zoo/2023.0/models_bin/1/bert-small-uncased-whole-word-masking-squad-int8-0002/FP16-INT8/bert-small-uncased-whole-word-masking-squad-int8-0002.xml\"\n",
    "model_bin_url = \"https://storage.openvinotoolkit.org/repositories/open_model_zoo/2023.0/models_bin/1/bert-small-uncased-whole-word-masking-squad-int8-0002/FP16-INT8/bert-small-uncased-whole-word-masking-squad-int8-0002.bin\"\n",
    "\n",
    "download_file(model_xml_url, model_xml_url.split(\"/\")[-1], MODEL_DIR)\n",
    "download_file(model_bin_url, model_bin_url.split(\"/\")[-1], MODEL_DIR)\n",
    "\n",
    "model_path = MODEL_DIR / model_xml_url.split(\"/\")[-1]"
   ]
  },
  {
   "cell_type": "code",
   "execution_count": 5,
   "metadata": {},
   "outputs": [
    {
     "data": {
      "text/plain": [
       "PosixPath('../../python/python_backend/trained_models/question_answering/bert-small-uncased-whole-word-masking-squad-int8-0002.xml')"
      ]
     },
     "execution_count": 5,
     "metadata": {},
     "output_type": "execute_result"
    }
   ],
   "source": [
    "model_path"
   ]
  },
  {
   "cell_type": "code",
   "execution_count": 6,
   "metadata": {},
   "outputs": [],
   "source": [
    "# Initialize OpenVINO Runtime.\n",
    "core = ov.Core()\n",
    "# Read the network and corresponding weights from a file.\n",
    "model = core.read_model(model_path)"
   ]
  },
  {
   "cell_type": "code",
   "execution_count": 7,
   "metadata": {},
   "outputs": [
    {
     "data": {
      "application/vnd.jupyter.widget-view+json": {
       "model_id": "2683c74ec70340de8daf0104c599d0f8",
       "version_major": 2,
       "version_minor": 0
      },
      "text/plain": [
       "Dropdown(description='Device:', index=1, options=('CPU', 'AUTO'), value='AUTO')"
      ]
     },
     "execution_count": 7,
     "metadata": {},
     "output_type": "execute_result"
    }
   ],
   "source": [
    "import ipywidgets as widgets\n",
    "\n",
    "core = ov.Core()\n",
    "\n",
    "device = widgets.Dropdown(\n",
    "    options=core.available_devices + [\"AUTO\"],\n",
    "    value='AUTO',\n",
    "    description='Device:',\n",
    "    disabled=False,\n",
    ")\n",
    "\n",
    "device"
   ]
  },
  {
   "cell_type": "code",
   "execution_count": 8,
   "metadata": {},
   "outputs": [],
   "source": [
    "compiled_model = core.compile_model(model=model, device_name=device.value)\n",
    "\n",
    "# Get input and output names of nodes.\n",
    "input_keys = list(compiled_model.inputs)\n",
    "output_keys = list(compiled_model.outputs)\n",
    "\n",
    "# Get the network input size.\n",
    "input_size = compiled_model.input(0).shape[1]"
   ]
  },
  {
   "cell_type": "code",
   "execution_count": 9,
   "metadata": {},
   "outputs": [
    {
     "data": {
      "text/plain": [
       "(['input_ids', 'attention_mask', 'token_type_ids', 'position_ids'],\n",
       " ['output_s', 'output_e'])"
      ]
     },
     "execution_count": 9,
     "metadata": {},
     "output_type": "execute_result"
    }
   ],
   "source": [
    "[i.any_name for i in input_keys], [o.any_name for o in output_keys]"
   ]
  },
  {
   "cell_type": "code",
   "execution_count": 18,
   "metadata": {},
   "outputs": [
    {
     "data": {
      "application/vnd.jupyter.widget-view+json": {
       "model_id": "4465a30242304fe6b909b7fb6e3207f5",
       "version_major": 2,
       "version_minor": 0
      },
      "text/plain": [
       "../../python/python_backend/trained_models/question_answering/vocab.txt:   0%|          | 0.00/226k [00:00<?, …"
      ]
     },
     "metadata": {},
     "output_type": "display_data"
    }
   ],
   "source": [
    "# Download the vocabulary from the openvino_notebooks storage\n",
    "vocab_file_path = download_file(\n",
    "    \"https://storage.openvinotoolkit.org/repositories/openvino_notebooks/data/data/text/bert-uncased/vocab.txt\",\n",
    "    directory=MODEL_DIR\n",
    ")\n",
    "\n",
    "# Create a dictionary with words and their indices.\n",
    "vocab = tokens.load_vocab_file(str(vocab_file_path))\n",
    "\n",
    "# Define special tokens.\n",
    "cls_token = vocab[\"[CLS]\"]\n",
    "pad_token = vocab[\"[PAD]\"]\n",
    "sep_token = vocab[\"[SEP]\"]\n",
    "\n",
    "\n",
    "# A function to load text from given urls.\n",
    "def load_context(sources):\n",
    "    input_urls = []\n",
    "    paragraphs = []\n",
    "    for source in sources:\n",
    "        result = parse.urlparse(source)\n",
    "        if all([result.scheme, result.netloc]):\n",
    "            input_urls.append(source)\n",
    "        else:\n",
    "            paragraphs.append(source)\n",
    "\n",
    "    paragraphs.extend(reader.get_paragraphs(input_urls))\n",
    "    # Produce one big context string.\n",
    "    return \"\\n\".join(paragraphs)"
   ]
  },
  {
   "cell_type": "code",
   "execution_count": 19,
   "metadata": {},
   "outputs": [],
   "source": [
    "# A generator of a sequence of inputs.\n",
    "def prepare_input(question_tokens, context_tokens):\n",
    "    # A length of question in tokens.\n",
    "    question_len = len(question_tokens)\n",
    "    # The context part size.\n",
    "    context_len = input_size - question_len - 3\n",
    "\n",
    "    if context_len < 16:\n",
    "        raise RuntimeError(\"Question is too long in comparison to input size. No space for context\")\n",
    "\n",
    "    # Take parts of the context with overlapping by 0.5.\n",
    "    for start in range(0, max(1, len(context_tokens) - context_len), context_len // 2):\n",
    "        # A part of the context.\n",
    "        part_context_tokens = context_tokens[start:start + context_len]\n",
    "        # The input: a question and the context separated by special tokens.\n",
    "        input_ids = [cls_token] + question_tokens + [sep_token] + part_context_tokens + [sep_token]\n",
    "        # 1 for any index if there is no padding token, 0 otherwise.\n",
    "        attention_mask = [1] * len(input_ids)\n",
    "        # 0 for question tokens, 1 for context part.\n",
    "        token_type_ids = [0] * (question_len + 2) + [1] * (len(part_context_tokens) + 1)\n",
    "\n",
    "        # Add padding at the end.\n",
    "        (input_ids, attention_mask, token_type_ids), pad_number = pad(input_ids=input_ids,\n",
    "                                                                      attention_mask=attention_mask,\n",
    "                                                                      token_type_ids=token_type_ids)\n",
    "\n",
    "        # Create an input to feed the model.\n",
    "        input_dict = {\n",
    "            \"input_ids\": np.array([input_ids], dtype=np.int32),\n",
    "            \"attention_mask\": np.array([attention_mask], dtype=np.int32),\n",
    "            \"token_type_ids\": np.array([token_type_ids], dtype=np.int32),\n",
    "        }\n",
    "\n",
    "        # Some models require additional position_ids.\n",
    "        if \"position_ids\" in [i_key.any_name for i_key in input_keys]:\n",
    "            position_ids = np.arange(len(input_ids))\n",
    "            input_dict[\"position_ids\"] = np.array([position_ids], dtype=np.int32)\n",
    "\n",
    "        yield input_dict, pad_number, start\n",
    "\n",
    "\n",
    "# A function to add padding.\n",
    "def pad(input_ids, attention_mask, token_type_ids):\n",
    "    # How many padding tokens.\n",
    "    diff_input_size = input_size - len(input_ids)\n",
    "\n",
    "    if diff_input_size > 0:\n",
    "        # Add padding to all the inputs.\n",
    "        input_ids = input_ids + [pad_token] * diff_input_size\n",
    "        attention_mask = attention_mask + [0] * diff_input_size\n",
    "        token_type_ids = token_type_ids + [0] * diff_input_size\n",
    "\n",
    "    return (input_ids, attention_mask, token_type_ids), diff_input_size"
   ]
  },
  {
   "cell_type": "code",
   "execution_count": 20,
   "metadata": {},
   "outputs": [],
   "source": [
    "# Based on https://github.com/openvinotoolkit/open_model_zoo/blob/bf03f505a650bafe8da03d2747a8b55c5cb2ef16/demos/common/python/openvino/model_zoo/model_api/models/bert.py#L163\n",
    "def postprocess(output_start, output_end, question_tokens, context_tokens_start_end, padding, start_idx):\n",
    "\n",
    "    def get_score(logits):\n",
    "        out = np.exp(logits)\n",
    "        return out / out.sum(axis=-1)\n",
    "\n",
    "    # Get start-end scores for the context.\n",
    "    score_start = get_score(output_start)\n",
    "    score_end = get_score(output_end)\n",
    "\n",
    "    # An index of the first context token in a tensor.\n",
    "    context_start_idx = len(question_tokens) + 2\n",
    "    # An index of the last+1 context token in a tensor.\n",
    "    context_end_idx = input_size - padding - 1\n",
    "\n",
    "    # Find product of all start-end combinations to find the best one.\n",
    "    max_score, max_start, max_end = find_best_answer_window(start_score=score_start,\n",
    "                                                            end_score=score_end,\n",
    "                                                            context_start_idx=context_start_idx,\n",
    "                                                            context_end_idx=context_end_idx)\n",
    "\n",
    "    # Convert to context text start-end index.\n",
    "    max_start = context_tokens_start_end[max_start + start_idx][0]\n",
    "    max_end = context_tokens_start_end[max_end + start_idx][1]\n",
    "\n",
    "    return max_score, max_start, max_end\n",
    "\n",
    "\n",
    "# Based on https://github.com/openvinotoolkit/open_model_zoo/blob/bf03f505a650bafe8da03d2747a8b55c5cb2ef16/demos/common/python/openvino/model_zoo/model_api/models/bert.py#L188\n",
    "def find_best_answer_window(start_score, end_score, context_start_idx, context_end_idx):\n",
    "    context_len = context_end_idx - context_start_idx\n",
    "    score_mat = np.matmul(\n",
    "        start_score[context_start_idx:context_end_idx].reshape((context_len, 1)),\n",
    "        end_score[context_start_idx:context_end_idx].reshape((1, context_len)),\n",
    "    )\n",
    "    # Reset candidates with end before start.\n",
    "    score_mat = np.triu(score_mat)\n",
    "    # Reset long candidates (>16 words).\n",
    "    score_mat = np.tril(score_mat, 16)\n",
    "    # Find the best start-end pair.\n",
    "    max_s, max_e = divmod(score_mat.flatten().argmax(), score_mat.shape[1])\n",
    "    max_score = score_mat[max_s, max_e]\n",
    "\n",
    "    return max_score, max_s, max_e"
   ]
  },
  {
   "cell_type": "code",
   "execution_count": 21,
   "metadata": {},
   "outputs": [],
   "source": [
    "def get_best_answer(question, context):\n",
    "    # Convert the context string to tokens.\n",
    "    context_tokens, context_tokens_start_end = tokens.text_to_tokens(text=context.lower(),\n",
    "                                                                     vocab=vocab)\n",
    "    # Convert the question string to tokens.\n",
    "    question_tokens, _ = tokens.text_to_tokens(text=question.lower(), vocab=vocab)\n",
    "\n",
    "    results = []\n",
    "    # Iterate through different parts of the context.\n",
    "    for network_input, padding, start_idx in prepare_input(question_tokens=question_tokens,\n",
    "                                                           context_tokens=context_tokens):\n",
    "        # Get output layers.\n",
    "        output_start_key = compiled_model.output(\"output_s\")\n",
    "        output_end_key = compiled_model.output(\"output_e\")\n",
    "\n",
    "        # OpenVINO inference.\n",
    "        result = compiled_model(network_input)\n",
    "        # Postprocess the result, getting the score and context range for the answer.\n",
    "        score_start_end = postprocess(output_start=result[output_start_key][0],\n",
    "                                      output_end=result[output_end_key][0],\n",
    "                                      question_tokens=question_tokens,\n",
    "                                      context_tokens_start_end=context_tokens_start_end,\n",
    "                                      padding=padding,\n",
    "                                      start_idx=start_idx)\n",
    "        results.append(score_start_end)\n",
    "\n",
    "    # Find the highest score.\n",
    "    answer = max(results, key=operator.itemgetter(0))\n",
    "    # Return the part of the context, which is already an answer.\n",
    "    return context[answer[1]:answer[2]], answer[0]"
   ]
  },
  {
   "cell_type": "code",
   "execution_count": 22,
   "metadata": {},
   "outputs": [],
   "source": [
    "def run_question_answering(sources, example_question=None):\n",
    "    print(f\"Context: {sources}\", flush=True)\n",
    "    context = load_context(sources)\n",
    "\n",
    "    if len(context) == 0:\n",
    "        print(\"Error: Empty context or outside paragraphs\")\n",
    "        return\n",
    "\n",
    "    if example_question is not None:\n",
    "        start_time = time.perf_counter()\n",
    "        answer, score = get_best_answer(question=example_question, context=context)\n",
    "        end_time = time.perf_counter()\n",
    "\n",
    "        print(f\"Question: {example_question}\")\n",
    "        print(f\"Answer: {answer}\")\n",
    "        print(f\"Score: {score:.2f}\")\n",
    "        print(f\"Time: {end_time - start_time:.2f}s\")\n",
    "    else:\n",
    "        while True:\n",
    "            question = input()\n",
    "            # if no question - break\n",
    "            if question == \"\":\n",
    "                break\n",
    "\n",
    "            # measure processing time\n",
    "            start_time = time.perf_counter()\n",
    "            answer, score = get_best_answer(question=question, context=context)\n",
    "            end_time = time.perf_counter()\n",
    "\n",
    "            print(f\"Question: {question}\")\n",
    "            print(f\"Answer: {answer}\")\n",
    "            print(f\"Score: {score:.2f}\")\n",
    "            print(f\"Time: {end_time - start_time:.2f}s\")"
   ]
  },
  {
   "cell_type": "code",
   "execution_count": 23,
   "metadata": {},
   "outputs": [
    {
     "name": "stdout",
     "output_type": "stream",
     "text": [
      "Context: ['A variety of medications serve diverse purposes in addressing health concerns. Aspirin, functioning as both a pain reliever and a blood thinner, is commonly employed to alleviate pain and inflammation. Ibuprofen, a nonsteroidal anti-inflammatory drug (NSAID), is utilized for pain relief, inflammation reduction, and fever reduction. Acetaminophen is favored for mild to moderate pain relief and fever reduction. Loratadine and cetirizine are antihistamines employed to manage allergy symptoms such as sneezing and itching. Diphenhydramine, another antihistamine, serves dual purposes by alleviating allergies and acting as a sleep aid. Medications like ranitidine, omeprazole, and lansoprazole are used to reduce stomach acid, treating conditions like heartburn and ulcers. Statins such as simvastatin and atorvastatin aim to lower cholesterol levels, decreasing the risk of heart disease. Metformin controls blood sugar levels in type 2 diabetes. Medications like levothyroxine address hypothyroidism by providing thyroid hormone replacement. Prednisone, a corticosteroid, suppresses inflammation and the immune system. Albuterol, a bronchodilator, is employed for asthma and chronic obstructive pulmonary disease (COPD). Sertraline, lisinopril, and amlodipine are medications for depression, hypertension, and high blood pressure, respectively. Anticoagulants like warfarin and antiplatelets like clopidogrel prevent blood clot formation. Hydrochlorothiazide and furosemide are diuretics used for hypertension and fluid retention. Duloxetine, venlafaxine, escitalopram, and citalopram are medications addressing depression and anxiety disorders. Aripiprazole, quetiapine, and olanzapine are atypical antipsychotics for schizophrenia and bipolar disorder. Benzodiazepines like alprazolam and lorazepam are used to manage anxiety and panic disorders. Zolpidem is a sedative-hypnotic for insomnia. Stimulants like methylphenidate treat attention deficit hyperactivity disorder (ADHD). Inhaled corticosteroids such as fluticasone and leukotriene receptor antagonists like montelukast address asthma and allergies. Antidiabetic medications like sitagliptin are used for type 2 diabetes. Mirtazapine, gabapentin, and pregabalin serve purposes ranging from managing depression to treating neuropathic pain. Opioid analgesics like hydrocodone/acetaminophen, oxycodone/acetaminophen, morphine, and tramadol are employed for varying degrees of pain relief. Dextromethorphan is a cough suppressant, guaifenesin is an expectorant, and miconazole is an antifungal medication for coughs, congestion, and fungal infections, respectively. Each medication addresses specific health needs, and their usage should align with professional guidance for optimal effectiveness and safety.']\n",
      "Question: ranitidine is used for?\n",
      "Answer: to reduce stomach acid\n",
      "Score: 0.36\n",
      "Time: 0.06s\n"
     ]
    }
   ],
   "source": [
    "sources = [\"A variety of medications serve diverse purposes in addressing health concerns. Aspirin, functioning as both a pain reliever and a blood thinner, is commonly employed to alleviate pain and inflammation. Ibuprofen, a nonsteroidal anti-inflammatory drug (NSAID), is utilized for pain relief, inflammation reduction, and fever reduction. Acetaminophen is favored for mild to moderate pain relief and fever reduction. Loratadine and cetirizine are antihistamines employed to manage allergy symptoms such as sneezing and itching. Diphenhydramine, another antihistamine, serves dual purposes by alleviating allergies and acting as a sleep aid. Medications like ranitidine, omeprazole, and lansoprazole are used to reduce stomach acid, treating conditions like heartburn and ulcers. Statins such as simvastatin and atorvastatin aim to lower cholesterol levels, decreasing the risk of heart disease. Metformin controls blood sugar levels in type 2 diabetes. Medications like levothyroxine address hypothyroidism by providing thyroid hormone replacement. Prednisone, a corticosteroid, suppresses inflammation and the immune system. Albuterol, a bronchodilator, is employed for asthma and chronic obstructive pulmonary disease (COPD). Sertraline, lisinopril, and amlodipine are medications for depression, hypertension, and high blood pressure, respectively. Anticoagulants like warfarin and antiplatelets like clopidogrel prevent blood clot formation. Hydrochlorothiazide and furosemide are diuretics used for hypertension and fluid retention. Duloxetine, venlafaxine, escitalopram, and citalopram are medications addressing depression and anxiety disorders. Aripiprazole, quetiapine, and olanzapine are atypical antipsychotics for schizophrenia and bipolar disorder. Benzodiazepines like alprazolam and lorazepam are used to manage anxiety and panic disorders. Zolpidem is a sedative-hypnotic for insomnia. Stimulants like methylphenidate treat attention deficit hyperactivity disorder (ADHD). Inhaled corticosteroids such as fluticasone and leukotriene receptor antagonists like montelukast address asthma and allergies. Antidiabetic medications like sitagliptin are used for type 2 diabetes. Mirtazapine, gabapentin, and pregabalin serve purposes ranging from managing depression to treating neuropathic pain. Opioid analgesics like hydrocodone/acetaminophen, oxycodone/acetaminophen, morphine, and tramadol are employed for varying degrees of pain relief. Dextromethorphan is a cough suppressant, guaifenesin is an expectorant, and miconazole is an antifungal medication for coughs, congestion, and fungal infections, respectively. Each medication addresses specific health needs, and their usage should align with professional guidance for optimal effectiveness and safety.\"]\n",
    "\n",
    "question = \"ranitidine is used for?\"\n",
    "\n",
    "run_question_answering(sources, example_question=question)"
   ]
  }
 ],
 "metadata": {
  "kernelspec": {
   "display_name": "Python 3",
   "language": "python",
   "name": "python3"
  },
  "language_info": {
   "codemirror_mode": {
    "name": "ipython",
    "version": 3
   },
   "file_extension": ".py",
   "mimetype": "text/x-python",
   "name": "python",
   "nbconvert_exporter": "python",
   "pygments_lexer": "ipython3",
   "version": "3.10.12"
  }
 },
 "nbformat": 4,
 "nbformat_minor": 2
}
